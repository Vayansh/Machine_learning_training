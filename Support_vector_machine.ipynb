{
  "nbformat": 4,
  "nbformat_minor": 0,
  "metadata": {
    "colab": {
      "provenance": [],
      "authorship_tag": "ABX9TyPhXzEAYuJqWxD/h37nilVJ",
      "include_colab_link": true
    },
    "kernelspec": {
      "name": "python3",
      "display_name": "Python 3"
    },
    "language_info": {
      "name": "python"
    }
  },
  "cells": [
    {
      "cell_type": "markdown",
      "metadata": {
        "id": "view-in-github",
        "colab_type": "text"
      },
      "source": [
        "<a href=\"https://colab.research.google.com/github/Vayansh/Machine_learning_training/blob/main/Support_vector_machine.ipynb\" target=\"_parent\"><img src=\"https://colab.research.google.com/assets/colab-badge.svg\" alt=\"Open In Colab\"/></a>"
      ]
    },
    {
      "cell_type": "code",
      "execution_count": null,
      "metadata": {
        "id": "gd-BfY-bHF5b"
      },
      "outputs": [],
      "source": [
        "import numpy as np"
      ]
    },
    {
      "cell_type": "code",
      "source": [
        "class SVM:\n",
        "  def __init__(self,learning_rate = 0.001, lambda_param = 0.01, n_iter = 1000):\n",
        "    self.lr = learning_rate\n",
        "    self.lp = lambda_param\n",
        "    self.n_iter = n_iter\n",
        "    self.weights = None\n",
        "    self.bais = None\n",
        "\n",
        "  def fit(self,X,y):\n",
        "    n_samples, n_features = X.shape\n",
        "\n",
        "    self.weights = np.array(np.random.randint(10,size = n_features),np.float32)\n",
        "    self.bais = np.random.randint(10)\n",
        "\n",
        "    y_ = np.where(y>0,1,-1)\n",
        "\n",
        "    for _ in range(self.n_iter):\n",
        "      for idx, x_i in enumerate(X):\n",
        "        condition = y_[idx] * (np.dot(x_i,self.weights) - self.bais) >= 1\n",
        "\n",
        "        if condition:\n",
        "          self.weights -= self.lr*self.lp*2*self.weights\n",
        "        else:\n",
        "          self.weights -= self.lr*(2*self.lp*self.weights - np.dot(y_[idx],x_i))\n",
        "          self.bais -= self.lr*y_[idx]\n",
        "\n",
        "\n",
        "  def predict(self,X):\n",
        "    approx = np.dot(X,self.weights) - self.bais\n",
        "    return np.where(approx>0,1,0)\n"
      ],
      "metadata": {
        "id": "OUMpbpH8J5fg"
      },
      "execution_count": null,
      "outputs": []
    },
    {
      "cell_type": "code",
      "source": [
        "svm = SVM()"
      ],
      "metadata": {
        "id": "aOFzdMJWPFWI"
      },
      "execution_count": null,
      "outputs": []
    },
    {
      "cell_type": "code",
      "source": [
        "from sklearn.model_selection import train_test_split\n",
        "from sklearn import datasets\n",
        "import matplotlib.pyplot as plt\n",
        "\n",
        "X, y = datasets.make_blobs(\n",
        "        n_samples=50, n_features=2, centers=2, cluster_std=1.05, random_state=40\n",
        "    )"
      ],
      "metadata": {
        "id": "KHfkBC0zPRst"
      },
      "execution_count": null,
      "outputs": []
    },
    {
      "cell_type": "code",
      "source": [
        "X_train,X_test,y_train,y_test = train_test_split(X,y,test_size = 0.2,random_state = 123)"
      ],
      "metadata": {
        "id": "ibpmm-5PPVXo"
      },
      "execution_count": null,
      "outputs": []
    },
    {
      "cell_type": "code",
      "source": [
        "svm.fit(X_train,y_train)"
      ],
      "metadata": {
        "id": "qr72TSZiPIMV"
      },
      "execution_count": null,
      "outputs": []
    },
    {
      "cell_type": "code",
      "source": [
        "y_pred = svm.predict(X_test)"
      ],
      "metadata": {
        "id": "4oL_SgH8PiVq"
      },
      "execution_count": null,
      "outputs": []
    },
    {
      "cell_type": "code",
      "source": [
        "def accuracy_score(y_test,y_pred):\n",
        "  return np.sum(y_test == y_pred) / len(y_test)"
      ],
      "metadata": {
        "id": "LVBNWg31PmA-"
      },
      "execution_count": null,
      "outputs": []
    },
    {
      "cell_type": "code",
      "source": [
        "accuracy_score(y_test,y_pred)"
      ],
      "metadata": {
        "colab": {
          "base_uri": "https://localhost:8080/"
        },
        "id": "VilQo4VbP3wk",
        "outputId": "7d106786-c6d0-4b13-88e1-12c20b541916"
      },
      "execution_count": null,
      "outputs": [
        {
          "output_type": "execute_result",
          "data": {
            "text/plain": [
              "1.0"
            ]
          },
          "metadata": {},
          "execution_count": 10
        }
      ]
    },
    {
      "cell_type": "code",
      "source": [
        "def visualize_svm():\n",
        "  def get_hyperplane_value(x,w,b,offset):\n",
        "    return (-w[0]*x + b + offset)/w[1]\n",
        "\n",
        "  fig = plt.figure()\n",
        "  ax = fig.add_subplot(1,1,1)\n",
        "  plt.scatter(X_train[:,0],X_train[:,1],marker = 'o',c = y_train)\n",
        "\n",
        "  x0_1 = np.amin(X_train[:,0])\n",
        "  x0_2 = np.amax(X_train[:,0])\n",
        "\n",
        "  x1_1 = get_hyperplane_value(x0_1,svm.weights,svm.bais,0)\n",
        "  x1_2 = get_hyperplane_value(x0_2,svm.weights,svm.bais,0)\n",
        "\n",
        "  x2_1 = get_hyperplane_value(x0_1,svm.weights,svm.bais,1)\n",
        "  x2_2 = get_hyperplane_value(x0_2,svm.weights,svm.bais,1)\n",
        "\n",
        "  x3_1 = get_hyperplane_value(x0_1,svm.weights,svm.bais,-1)\n",
        "  x3_2 = get_hyperplane_value(x0_2,svm.weights,svm.bais,-1)\n",
        "\n",
        "  plt.plot([x0_1,x0_2],[x1_1,x1_2] , 'y--')\n",
        "  plt.plot([x0_1,x0_2],[x2_1,x2_2],'k')\n",
        "  plt.plot([x0_1,x0_2],[x3_1,x3_2],'k')\n",
        "  plt.show()\n"
      ],
      "metadata": {
        "id": "AxtT4oNKP6SB"
      },
      "execution_count": null,
      "outputs": []
    },
    {
      "cell_type": "code",
      "source": [
        "visualize_svm()"
      ],
      "metadata": {
        "colab": {
          "base_uri": "https://localhost:8080/",
          "height": 430
        },
        "id": "cyHsZSycS6mg",
        "outputId": "eeec265c-bdf8-47fd-f21b-3ff1f42eb5a4"
      },
      "execution_count": null,
      "outputs": [
        {
          "output_type": "display_data",
          "data": {
            "text/plain": [
              "<Figure size 640x480 with 1 Axes>"
            ],
            "image/png": "[encoded data removed]"
          },
          "metadata": {}
        }
      ]
    },
    {
      "cell_type": "code",
      "source": [],
      "metadata": {
        "id": "0Exa9sAgS_f6"
      },
      "execution_count": null,
      "outputs": []
    }
  ]
}